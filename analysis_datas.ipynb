{
 "cells": [
  {
   "cell_type": "code",
   "execution_count": 84,
   "metadata": {},
   "outputs": [],
   "source": [
    "import pandas as pd"
   ]
  },
  {
   "cell_type": "code",
   "execution_count": 85,
   "metadata": {},
   "outputs": [],
   "source": [
    "# Load title.basics.tsv\n",
    "title_basics = pd.read_csv('datas\\\\title.basics.tsv', sep='\\t', low_memory=False)"
   ]
  },
  {
   "cell_type": "code",
   "execution_count": null,
   "metadata": {},
   "outputs": [],
   "source": [
    "# Load movies.dat\n",
    "movies = pd.read_csv('datas\\\\ml-1m\\\\movies.dat', sep='::', engine='python', encoding=\"latin-1\", header=None, names=['MovieID', 'Title', 'Genres'])\n",
    "\n",
    "# Load ratings.dat\n",
    "ratings = pd.read_csv('datas\\\\ml-1m\\\\ratings.dat', sep='::', engine='python', header=None, names=['UserID', 'MovieID', 'Rating', 'Timestamp'])\n",
    "\n",
    "# Load users.dat\n",
    "users = pd.read_csv('datas\\\\ml-1m\\\\users.dat', sep='::', engine='python', header=None, names=['UserID', 'Gender', 'Age', 'Occupation', 'Zip-code'])"
   ]
  },
  {
   "cell_type": "code",
   "execution_count": null,
   "metadata": {},
   "outputs": [
    {
     "name": "stdout",
     "output_type": "stream",
     "text": [
      "tconst              0\n",
      "titleType           0\n",
      "primaryTitle       18\n",
      "originalTitle      18\n",
      "isAdult             0\n",
      "startYear           0\n",
      "endYear             0\n",
      "runtimeMinutes      0\n",
      "genres            561\n",
      "dtype: int64\n"
     ]
    }
   ],
   "source": [
    "print(title_basics.isnull().sum())"
   ]
  },
  {
   "cell_type": "code",
   "execution_count": null,
   "metadata": {},
   "outputs": [
    {
     "name": "stdout",
     "output_type": "stream",
     "text": [
      "MovieID    0\n",
      "Title      0\n",
      "Genres     0\n",
      "dtype: int64\n"
     ]
    }
   ],
   "source": [
    "print(movies.isnull().sum())"
   ]
  },
  {
   "cell_type": "code",
   "execution_count": null,
   "metadata": {},
   "outputs": [
    {
     "name": "stdout",
     "output_type": "stream",
     "text": [
      "UserID       0\n",
      "MovieID      0\n",
      "Rating       0\n",
      "Timestamp    0\n",
      "dtype: int64\n"
     ]
    }
   ],
   "source": [
    "print(ratings.isnull().sum())"
   ]
  },
  {
   "cell_type": "code",
   "execution_count": null,
   "metadata": {},
   "outputs": [
    {
     "name": "stdout",
     "output_type": "stream",
     "text": [
      "UserID        0\n",
      "Gender        0\n",
      "Age           0\n",
      "Occupation    0\n",
      "Zip-code      0\n",
      "dtype: int64\n"
     ]
    }
   ],
   "source": [
    "print(users.isnull().sum())"
   ]
  },
  {
   "cell_type": "code",
   "execution_count": null,
   "metadata": {},
   "outputs": [],
   "source": [
    "movies = movies.dropna()\n",
    "\n",
    "# For ratings.dat - removing rows with any null values\n",
    "ratings = ratings.dropna()\n",
    "\n",
    "# For users.dat - removing rows with any null values\n",
    "users = users.dropna()\n",
    "\n",
    "# For title.basics.tsv from IMDb - removing rows with any null values\n",
    "title_basics = title_basics.dropna()"
   ]
  },
  {
   "cell_type": "code",
   "execution_count": null,
   "metadata": {},
   "outputs": [
    {
     "name": "stdout",
     "output_type": "stream",
     "text": [
      "Index(['MovieID', 'Title', 'Genres'], dtype='object')\n",
      "Index(['UserID', 'MovieID', 'Rating', 'Timestamp'], dtype='object')\n",
      "Index(['UserID', 'Gender', 'Age', 'Occupation', 'Zip-code'], dtype='object')\n",
      "Index(['tconst', 'titleType', 'primaryTitle', 'originalTitle', 'isAdult',\n",
      "       'startYear', 'endYear', 'runtimeMinutes', 'genres'],\n",
      "      dtype='object')\n"
     ]
    }
   ],
   "source": [
    "print(movies.columns)\n",
    "print(ratings.columns)\n",
    "print(users.columns)\n",
    "print(title_basics.columns)"
   ]
  },
  {
   "cell_type": "code",
   "execution_count": null,
   "metadata": {},
   "outputs": [
    {
     "name": "stdout",
     "output_type": "stream",
     "text": [
      "      tconst titleType            primaryTitle           originalTitle  \\\n",
      "0  tt0000001     short              Carmencita              Carmencita   \n",
      "1  tt0000002     short  Le clown et ses chiens  Le clown et ses chiens   \n",
      "2  tt0000003     short          Pauvre Pierrot          Pauvre Pierrot   \n",
      "3  tt0000004     short             Un bon bock             Un bon bock   \n",
      "4  tt0000005     short        Blacksmith Scene        Blacksmith Scene   \n",
      "\n",
      "  isAdult startYear endYear runtimeMinutes                    genres  \n",
      "0       0      1894      \\N              1         Documentary,Short  \n",
      "1       0      1892      \\N              5           Animation,Short  \n",
      "2       0      1892      \\N              5  Animation,Comedy,Romance  \n",
      "3       0      1892      \\N             12           Animation,Short  \n",
      "4       0      1893      \\N              1              Comedy,Short  \n"
     ]
    }
   ],
   "source": [
    "print(title_basics.head())"
   ]
  },
  {
   "cell_type": "code",
   "execution_count": null,
   "metadata": {},
   "outputs": [
    {
     "name": "stdout",
     "output_type": "stream",
     "text": [
      "   UserID Gender  Age  Occupation Zip-code\n",
      "0       1      F    1          10    48067\n",
      "1       2      M   56          16    70072\n",
      "2       3      M   25          15    55117\n",
      "3       4      M   45           7    02460\n",
      "4       5      M   25          20    55455\n"
     ]
    }
   ],
   "source": [
    "print(users.head())"
   ]
  },
  {
   "cell_type": "code",
   "execution_count": null,
   "metadata": {},
   "outputs": [
    {
     "name": "stdout",
     "output_type": "stream",
     "text": [
      "   MovieID                               Title                        Genres\n",
      "0        1                    Toy Story (1995)   Animation|Children's|Comedy\n",
      "1        2                      Jumanji (1995)  Adventure|Children's|Fantasy\n",
      "2        3             Grumpier Old Men (1995)                Comedy|Romance\n",
      "3        4            Waiting to Exhale (1995)                  Comedy|Drama\n",
      "4        5  Father of the Bride Part II (1995)                        Comedy\n"
     ]
    }
   ],
   "source": [
    "print(movies.head())"
   ]
  },
  {
   "cell_type": "code",
   "execution_count": null,
   "metadata": {},
   "outputs": [
    {
     "name": "stdout",
     "output_type": "stream",
     "text": [
      "   UserID  MovieID  Rating  Timestamp\n",
      "0       1     1193       5  978300760\n",
      "1       1      661       3  978302109\n",
      "2       1      914       3  978301968\n",
      "3       1     3408       4  978300275\n",
      "4       1     2355       5  978824291\n"
     ]
    }
   ],
   "source": [
    "print(ratings.head())"
   ]
  },
  {
   "cell_type": "code",
   "execution_count": null,
   "metadata": {},
   "outputs": [],
   "source": [
    "movies['Year'] = movies['Title'].str.extract(r'\\((\\d{4})\\)')\n",
    "movies['Title'] = movies['Title'].str.replace(r'\\s*\\(\\d{4}\\)\\s*', '', regex=True).str.strip()"
   ]
  },
  {
   "cell_type": "code",
   "execution_count": null,
   "metadata": {},
   "outputs": [],
   "source": [
    "max_movie_id = movies['MovieID'].max()\n",
    "\n",
    "title_basics['MovieID'] = range(max_movie_id + 1, max_movie_id + 1 + len(title_basics))\n",
    "\n",
    "title_basics['startYear'] = title_basics['startYear'].astype(str)\n",
    "\n",
    "title_basics['Year'] = title_basics['startYear'].str.extract(r'^(\\d{4})$')\n",
    "title_basics['Title'] = title_basics['primaryTitle'].str.strip()\n",
    "title_basics['Genres'] = title_basics['genres'].str.split(',').str.join('|')"
   ]
  },
  {
   "cell_type": "code",
   "execution_count": null,
   "metadata": {},
   "outputs": [
    {
     "ename": "KeyboardInterrupt",
     "evalue": "",
     "output_type": "error",
     "traceback": [
      "\u001b[1;31m---------------------------------------------------------------------------\u001b[0m",
      "\u001b[1;31mKeyboardInterrupt\u001b[0m                         Traceback (most recent call last)",
      "Cell \u001b[1;32mIn[81], line 1\u001b[0m\n\u001b[1;32m----> 1\u001b[0m merged_movies \u001b[38;5;241m=\u001b[39m \u001b[43mpd\u001b[49m\u001b[38;5;241;43m.\u001b[39;49m\u001b[43mmerge\u001b[49m\u001b[43m(\u001b[49m\u001b[43mmovies\u001b[49m\u001b[43m,\u001b[49m\u001b[43m \u001b[49m\u001b[43mtitle_basics\u001b[49m\u001b[43m,\u001b[49m\u001b[43m \u001b[49m\u001b[43mon\u001b[49m\u001b[38;5;241;43m=\u001b[39;49m\u001b[43m[\u001b[49m\u001b[38;5;124;43m'\u001b[39;49m\u001b[38;5;124;43mTitle\u001b[39;49m\u001b[38;5;124;43m'\u001b[39;49m\u001b[43m,\u001b[49m\u001b[43m \u001b[49m\u001b[38;5;124;43m'\u001b[39;49m\u001b[38;5;124;43mYear\u001b[39;49m\u001b[38;5;124;43m'\u001b[39;49m\u001b[43m,\u001b[49m\u001b[43m \u001b[49m\u001b[38;5;124;43m'\u001b[39;49m\u001b[38;5;124;43mMovieID\u001b[39;49m\u001b[38;5;124;43m'\u001b[39;49m\u001b[43m,\u001b[49m\u001b[43m \u001b[49m\u001b[38;5;124;43m'\u001b[39;49m\u001b[38;5;124;43mGenres\u001b[39;49m\u001b[38;5;124;43m'\u001b[39;49m\u001b[43m]\u001b[49m\u001b[43m,\u001b[49m\u001b[43m \u001b[49m\u001b[43mhow\u001b[49m\u001b[38;5;241;43m=\u001b[39;49m\u001b[38;5;124;43m'\u001b[39;49m\u001b[38;5;124;43mouter\u001b[39;49m\u001b[38;5;124;43m'\u001b[39;49m\u001b[43m)\u001b[49m\n\u001b[0;32m      2\u001b[0m merged_movies \u001b[38;5;241m=\u001b[39m merged_movies\u001b[38;5;241m.\u001b[39mdrop_duplicates(subset\u001b[38;5;241m=\u001b[39m[\u001b[38;5;124m'\u001b[39m\u001b[38;5;124mTitle\u001b[39m\u001b[38;5;124m'\u001b[39m])\n",
      "File \u001b[1;32mc:\\Users\\rokra\\AppData\\Local\\Programs\\Python\\Python312\\Lib\\site-packages\\pandas\\core\\reshape\\merge.py:184\u001b[0m, in \u001b[0;36mmerge\u001b[1;34m(left, right, how, on, left_on, right_on, left_index, right_index, sort, suffixes, copy, indicator, validate)\u001b[0m\n\u001b[0;32m    169\u001b[0m \u001b[38;5;28;01melse\u001b[39;00m:\n\u001b[0;32m    170\u001b[0m     op \u001b[38;5;241m=\u001b[39m _MergeOperation(\n\u001b[0;32m    171\u001b[0m         left_df,\n\u001b[0;32m    172\u001b[0m         right_df,\n\u001b[1;32m   (...)\u001b[0m\n\u001b[0;32m    182\u001b[0m         validate\u001b[38;5;241m=\u001b[39mvalidate,\n\u001b[0;32m    183\u001b[0m     )\n\u001b[1;32m--> 184\u001b[0m     \u001b[38;5;28;01mreturn\u001b[39;00m \u001b[43mop\u001b[49m\u001b[38;5;241;43m.\u001b[39;49m\u001b[43mget_result\u001b[49m\u001b[43m(\u001b[49m\u001b[43mcopy\u001b[49m\u001b[38;5;241;43m=\u001b[39;49m\u001b[43mcopy\u001b[49m\u001b[43m)\u001b[49m\n",
      "File \u001b[1;32mc:\\Users\\rokra\\AppData\\Local\\Programs\\Python\\Python312\\Lib\\site-packages\\pandas\\core\\reshape\\merge.py:886\u001b[0m, in \u001b[0;36m_MergeOperation.get_result\u001b[1;34m(self, copy)\u001b[0m\n\u001b[0;32m    883\u001b[0m \u001b[38;5;28;01mif\u001b[39;00m \u001b[38;5;28mself\u001b[39m\u001b[38;5;241m.\u001b[39mindicator:\n\u001b[0;32m    884\u001b[0m     \u001b[38;5;28mself\u001b[39m\u001b[38;5;241m.\u001b[39mleft, \u001b[38;5;28mself\u001b[39m\u001b[38;5;241m.\u001b[39mright \u001b[38;5;241m=\u001b[39m \u001b[38;5;28mself\u001b[39m\u001b[38;5;241m.\u001b[39m_indicator_pre_merge(\u001b[38;5;28mself\u001b[39m\u001b[38;5;241m.\u001b[39mleft, \u001b[38;5;28mself\u001b[39m\u001b[38;5;241m.\u001b[39mright)\n\u001b[1;32m--> 886\u001b[0m join_index, left_indexer, right_indexer \u001b[38;5;241m=\u001b[39m \u001b[38;5;28;43mself\u001b[39;49m\u001b[38;5;241;43m.\u001b[39;49m\u001b[43m_get_join_info\u001b[49m\u001b[43m(\u001b[49m\u001b[43m)\u001b[49m\n\u001b[0;32m    888\u001b[0m result \u001b[38;5;241m=\u001b[39m \u001b[38;5;28mself\u001b[39m\u001b[38;5;241m.\u001b[39m_reindex_and_concat(\n\u001b[0;32m    889\u001b[0m     join_index, left_indexer, right_indexer, copy\u001b[38;5;241m=\u001b[39mcopy\n\u001b[0;32m    890\u001b[0m )\n\u001b[0;32m    891\u001b[0m result \u001b[38;5;241m=\u001b[39m result\u001b[38;5;241m.\u001b[39m__finalize__(\u001b[38;5;28mself\u001b[39m, method\u001b[38;5;241m=\u001b[39m\u001b[38;5;28mself\u001b[39m\u001b[38;5;241m.\u001b[39m_merge_type)\n",
      "File \u001b[1;32mc:\\Users\\rokra\\AppData\\Local\\Programs\\Python\\Python312\\Lib\\site-packages\\pandas\\core\\reshape\\merge.py:1151\u001b[0m, in \u001b[0;36m_MergeOperation._get_join_info\u001b[1;34m(self)\u001b[0m\n\u001b[0;32m   1147\u001b[0m     join_index, right_indexer, left_indexer \u001b[38;5;241m=\u001b[39m _left_join_on_index(\n\u001b[0;32m   1148\u001b[0m         right_ax, left_ax, \u001b[38;5;28mself\u001b[39m\u001b[38;5;241m.\u001b[39mright_join_keys, sort\u001b[38;5;241m=\u001b[39m\u001b[38;5;28mself\u001b[39m\u001b[38;5;241m.\u001b[39msort\n\u001b[0;32m   1149\u001b[0m     )\n\u001b[0;32m   1150\u001b[0m \u001b[38;5;28;01melse\u001b[39;00m:\n\u001b[1;32m-> 1151\u001b[0m     (left_indexer, right_indexer) \u001b[38;5;241m=\u001b[39m \u001b[38;5;28;43mself\u001b[39;49m\u001b[38;5;241;43m.\u001b[39;49m\u001b[43m_get_join_indexers\u001b[49m\u001b[43m(\u001b[49m\u001b[43m)\u001b[49m\n\u001b[0;32m   1153\u001b[0m     \u001b[38;5;28;01mif\u001b[39;00m \u001b[38;5;28mself\u001b[39m\u001b[38;5;241m.\u001b[39mright_index:\n\u001b[0;32m   1154\u001b[0m         \u001b[38;5;28;01mif\u001b[39;00m \u001b[38;5;28mlen\u001b[39m(\u001b[38;5;28mself\u001b[39m\u001b[38;5;241m.\u001b[39mleft) \u001b[38;5;241m>\u001b[39m \u001b[38;5;241m0\u001b[39m:\n",
      "File \u001b[1;32mc:\\Users\\rokra\\AppData\\Local\\Programs\\Python\\Python312\\Lib\\site-packages\\pandas\\core\\reshape\\merge.py:1125\u001b[0m, in \u001b[0;36m_MergeOperation._get_join_indexers\u001b[1;34m(self)\u001b[0m\n\u001b[0;32m   1123\u001b[0m \u001b[38;5;66;03m# make mypy happy\u001b[39;00m\n\u001b[0;32m   1124\u001b[0m \u001b[38;5;28;01massert\u001b[39;00m \u001b[38;5;28mself\u001b[39m\u001b[38;5;241m.\u001b[39mhow \u001b[38;5;241m!=\u001b[39m \u001b[38;5;124m\"\u001b[39m\u001b[38;5;124masof\u001b[39m\u001b[38;5;124m\"\u001b[39m\n\u001b[1;32m-> 1125\u001b[0m \u001b[38;5;28;01mreturn\u001b[39;00m \u001b[43mget_join_indexers\u001b[49m\u001b[43m(\u001b[49m\n\u001b[0;32m   1126\u001b[0m \u001b[43m    \u001b[49m\u001b[38;5;28;43mself\u001b[39;49m\u001b[38;5;241;43m.\u001b[39;49m\u001b[43mleft_join_keys\u001b[49m\u001b[43m,\u001b[49m\u001b[43m \u001b[49m\u001b[38;5;28;43mself\u001b[39;49m\u001b[38;5;241;43m.\u001b[39;49m\u001b[43mright_join_keys\u001b[49m\u001b[43m,\u001b[49m\u001b[43m \u001b[49m\u001b[43msort\u001b[49m\u001b[38;5;241;43m=\u001b[39;49m\u001b[38;5;28;43mself\u001b[39;49m\u001b[38;5;241;43m.\u001b[39;49m\u001b[43msort\u001b[49m\u001b[43m,\u001b[49m\u001b[43m \u001b[49m\u001b[43mhow\u001b[49m\u001b[38;5;241;43m=\u001b[39;49m\u001b[38;5;28;43mself\u001b[39;49m\u001b[38;5;241;43m.\u001b[39;49m\u001b[43mhow\u001b[49m\n\u001b[0;32m   1127\u001b[0m \u001b[43m\u001b[49m\u001b[43m)\u001b[49m\n",
      "File \u001b[1;32mc:\\Users\\rokra\\AppData\\Local\\Programs\\Python\\Python312\\Lib\\site-packages\\pandas\\core\\reshape\\merge.py:1740\u001b[0m, in \u001b[0;36mget_join_indexers\u001b[1;34m(left_keys, right_keys, sort, how)\u001b[0m\n\u001b[0;32m   1734\u001b[0m \u001b[38;5;28;01mif\u001b[39;00m \u001b[38;5;28mlen\u001b[39m(left_keys) \u001b[38;5;241m>\u001b[39m \u001b[38;5;241m1\u001b[39m:\n\u001b[0;32m   1735\u001b[0m     \u001b[38;5;66;03m# get left & right join labels and num. of levels at each location\u001b[39;00m\n\u001b[0;32m   1736\u001b[0m     mapped \u001b[38;5;241m=\u001b[39m (\n\u001b[0;32m   1737\u001b[0m         _factorize_keys(left_keys[n], right_keys[n], sort\u001b[38;5;241m=\u001b[39msort)\n\u001b[0;32m   1738\u001b[0m         \u001b[38;5;28;01mfor\u001b[39;00m n \u001b[38;5;129;01min\u001b[39;00m \u001b[38;5;28mrange\u001b[39m(\u001b[38;5;28mlen\u001b[39m(left_keys))\n\u001b[0;32m   1739\u001b[0m     )\n\u001b[1;32m-> 1740\u001b[0m     zipped \u001b[38;5;241m=\u001b[39m \u001b[38;5;28;43mzip\u001b[39;49m\u001b[43m(\u001b[49m\u001b[38;5;241;43m*\u001b[39;49m\u001b[43mmapped\u001b[49m\u001b[43m)\u001b[49m\n\u001b[0;32m   1741\u001b[0m     llab, rlab, shape \u001b[38;5;241m=\u001b[39m (\u001b[38;5;28mlist\u001b[39m(x) \u001b[38;5;28;01mfor\u001b[39;00m x \u001b[38;5;129;01min\u001b[39;00m zipped)\n\u001b[0;32m   1743\u001b[0m     \u001b[38;5;66;03m# get flat i8 keys from label lists\u001b[39;00m\n",
      "File \u001b[1;32mc:\\Users\\rokra\\AppData\\Local\\Programs\\Python\\Python312\\Lib\\site-packages\\pandas\\core\\reshape\\merge.py:1737\u001b[0m, in \u001b[0;36m<genexpr>\u001b[1;34m(.0)\u001b[0m\n\u001b[0;32m   1733\u001b[0m rkey: ArrayLike\n\u001b[0;32m   1734\u001b[0m \u001b[38;5;28;01mif\u001b[39;00m \u001b[38;5;28mlen\u001b[39m(left_keys) \u001b[38;5;241m>\u001b[39m \u001b[38;5;241m1\u001b[39m:\n\u001b[0;32m   1735\u001b[0m     \u001b[38;5;66;03m# get left & right join labels and num. of levels at each location\u001b[39;00m\n\u001b[0;32m   1736\u001b[0m     mapped \u001b[38;5;241m=\u001b[39m (\n\u001b[1;32m-> 1737\u001b[0m         \u001b[43m_factorize_keys\u001b[49m\u001b[43m(\u001b[49m\u001b[43mleft_keys\u001b[49m\u001b[43m[\u001b[49m\u001b[43mn\u001b[49m\u001b[43m]\u001b[49m\u001b[43m,\u001b[49m\u001b[43m \u001b[49m\u001b[43mright_keys\u001b[49m\u001b[43m[\u001b[49m\u001b[43mn\u001b[49m\u001b[43m]\u001b[49m\u001b[43m,\u001b[49m\u001b[43m \u001b[49m\u001b[43msort\u001b[49m\u001b[38;5;241;43m=\u001b[39;49m\u001b[43msort\u001b[49m\u001b[43m)\u001b[49m\n\u001b[0;32m   1738\u001b[0m         \u001b[38;5;28;01mfor\u001b[39;00m n \u001b[38;5;129;01min\u001b[39;00m \u001b[38;5;28mrange\u001b[39m(\u001b[38;5;28mlen\u001b[39m(left_keys))\n\u001b[0;32m   1739\u001b[0m     )\n\u001b[0;32m   1740\u001b[0m     zipped \u001b[38;5;241m=\u001b[39m \u001b[38;5;28mzip\u001b[39m(\u001b[38;5;241m*\u001b[39mmapped)\n\u001b[0;32m   1741\u001b[0m     llab, rlab, shape \u001b[38;5;241m=\u001b[39m (\u001b[38;5;28mlist\u001b[39m(x) \u001b[38;5;28;01mfor\u001b[39;00m x \u001b[38;5;129;01min\u001b[39;00m zipped)\n",
      "File \u001b[1;32mc:\\Users\\rokra\\AppData\\Local\\Programs\\Python\\Python312\\Lib\\site-packages\\pandas\\core\\reshape\\merge.py:2570\u001b[0m, in \u001b[0;36m_factorize_keys\u001b[1;34m(lk, rk, sort)\u001b[0m\n\u001b[0;32m   2568\u001b[0m \u001b[38;5;28;01mif\u001b[39;00m sort:\n\u001b[0;32m   2569\u001b[0m     uniques \u001b[38;5;241m=\u001b[39m rizer\u001b[38;5;241m.\u001b[39muniques\u001b[38;5;241m.\u001b[39mto_array()\n\u001b[1;32m-> 2570\u001b[0m     llab, rlab \u001b[38;5;241m=\u001b[39m \u001b[43m_sort_labels\u001b[49m\u001b[43m(\u001b[49m\u001b[43muniques\u001b[49m\u001b[43m,\u001b[49m\u001b[43m \u001b[49m\u001b[43mllab\u001b[49m\u001b[43m,\u001b[49m\u001b[43m \u001b[49m\u001b[43mrlab\u001b[49m\u001b[43m)\u001b[49m\n\u001b[0;32m   2572\u001b[0m \u001b[38;5;66;03m# NA group\u001b[39;00m\n\u001b[0;32m   2573\u001b[0m lmask \u001b[38;5;241m=\u001b[39m llab \u001b[38;5;241m==\u001b[39m \u001b[38;5;241m-\u001b[39m\u001b[38;5;241m1\u001b[39m\n",
      "File \u001b[1;32mc:\\Users\\rokra\\AppData\\Local\\Programs\\Python\\Python312\\Lib\\site-packages\\pandas\\core\\reshape\\merge.py:2631\u001b[0m, in \u001b[0;36m_sort_labels\u001b[1;34m(uniques, left, right)\u001b[0m\n\u001b[0;32m   2628\u001b[0m llength \u001b[38;5;241m=\u001b[39m \u001b[38;5;28mlen\u001b[39m(left)\n\u001b[0;32m   2629\u001b[0m labels \u001b[38;5;241m=\u001b[39m np\u001b[38;5;241m.\u001b[39mconcatenate([left, right])\n\u001b[1;32m-> 2631\u001b[0m _, new_labels \u001b[38;5;241m=\u001b[39m \u001b[43malgos\u001b[49m\u001b[38;5;241;43m.\u001b[39;49m\u001b[43msafe_sort\u001b[49m\u001b[43m(\u001b[49m\u001b[43muniques\u001b[49m\u001b[43m,\u001b[49m\u001b[43m \u001b[49m\u001b[43mlabels\u001b[49m\u001b[43m,\u001b[49m\u001b[43m \u001b[49m\u001b[43muse_na_sentinel\u001b[49m\u001b[38;5;241;43m=\u001b[39;49m\u001b[38;5;28;43;01mTrue\u001b[39;49;00m\u001b[43m)\u001b[49m\n\u001b[0;32m   2632\u001b[0m new_left, new_right \u001b[38;5;241m=\u001b[39m new_labels[:llength], new_labels[llength:]\n\u001b[0;32m   2634\u001b[0m \u001b[38;5;28;01mreturn\u001b[39;00m new_left, new_right\n",
      "File \u001b[1;32mc:\\Users\\rokra\\AppData\\Local\\Programs\\Python\\Python312\\Lib\\site-packages\\pandas\\core\\algorithms.py:1517\u001b[0m, in \u001b[0;36msafe_sort\u001b[1;34m(values, codes, use_na_sentinel, assume_unique, verify)\u001b[0m\n\u001b[0;32m   1515\u001b[0m \u001b[38;5;28;01mtry\u001b[39;00m:\n\u001b[0;32m   1516\u001b[0m     sorter \u001b[38;5;241m=\u001b[39m values\u001b[38;5;241m.\u001b[39margsort()\n\u001b[1;32m-> 1517\u001b[0m     ordered \u001b[38;5;241m=\u001b[39m \u001b[43mvalues\u001b[49m\u001b[38;5;241;43m.\u001b[39;49m\u001b[43mtake\u001b[49m\u001b[43m(\u001b[49m\u001b[43msorter\u001b[49m\u001b[43m)\u001b[49m\n\u001b[0;32m   1518\u001b[0m \u001b[38;5;28;01mexcept\u001b[39;00m (\u001b[38;5;167;01mTypeError\u001b[39;00m, decimal\u001b[38;5;241m.\u001b[39mInvalidOperation):\n\u001b[0;32m   1519\u001b[0m     \u001b[38;5;66;03m# Previous sorters failed or were not applicable, try `_sort_mixed`\u001b[39;00m\n\u001b[0;32m   1520\u001b[0m     \u001b[38;5;66;03m# which would work, but which fails for special case of 1d arrays\u001b[39;00m\n\u001b[0;32m   1521\u001b[0m     \u001b[38;5;66;03m# with tuples.\u001b[39;00m\n\u001b[0;32m   1522\u001b[0m     \u001b[38;5;28;01mif\u001b[39;00m values\u001b[38;5;241m.\u001b[39msize \u001b[38;5;129;01mand\u001b[39;00m \u001b[38;5;28misinstance\u001b[39m(values[\u001b[38;5;241m0\u001b[39m], \u001b[38;5;28mtuple\u001b[39m):\n\u001b[0;32m   1523\u001b[0m         \u001b[38;5;66;03m# error: Argument 1 to \"_sort_tuples\" has incompatible type\u001b[39;00m\n\u001b[0;32m   1524\u001b[0m         \u001b[38;5;66;03m# \"Union[Index, ExtensionArray, ndarray[Any, Any]]\"; expected\u001b[39;00m\n\u001b[0;32m   1525\u001b[0m         \u001b[38;5;66;03m# \"ndarray[Any, Any]\"\u001b[39;00m\n",
      "\u001b[1;31mKeyboardInterrupt\u001b[0m: "
     ]
    }
   ],
   "source": [
    "merged_movies = pd.merge(movies, title_basics, on=['Title', 'Year', 'MovieID', 'Genres'], how='outer')\n",
    "merged_movies = merged_movies.drop_duplicates(subset=['Title'])"
   ]
  },
  {
   "cell_type": "code",
   "execution_count": null,
   "metadata": {},
   "outputs": [
    {
     "data": {
      "text/html": [
       "<div>\n",
       "<style scoped>\n",
       "    .dataframe tbody tr th:only-of-type {\n",
       "        vertical-align: middle;\n",
       "    }\n",
       "\n",
       "    .dataframe tbody tr th {\n",
       "        vertical-align: top;\n",
       "    }\n",
       "\n",
       "    .dataframe thead th {\n",
       "        text-align: right;\n",
       "    }\n",
       "</style>\n",
       "<table border=\"1\" class=\"dataframe\">\n",
       "  <thead>\n",
       "    <tr style=\"text-align: right;\">\n",
       "      <th></th>\n",
       "      <th>MovieID</th>\n",
       "      <th>Title</th>\n",
       "      <th>Genres</th>\n",
       "      <th>Year</th>\n",
       "      <th>tconst</th>\n",
       "      <th>titleType</th>\n",
       "      <th>primaryTitle</th>\n",
       "      <th>originalTitle</th>\n",
       "      <th>isAdult</th>\n",
       "      <th>startYear</th>\n",
       "      <th>endYear</th>\n",
       "      <th>runtimeMinutes</th>\n",
       "      <th>genres</th>\n",
       "    </tr>\n",
       "  </thead>\n",
       "  <tbody>\n",
       "    <tr>\n",
       "      <th>0</th>\n",
       "      <td>7548454</td>\n",
       "      <td>!</td>\n",
       "      <td>NaN</td>\n",
       "      <td>1998</td>\n",
       "      <td>tt31497793</td>\n",
       "      <td>tvEpisode</td>\n",
       "      <td>!</td>\n",
       "      <td>!</td>\n",
       "      <td>0</td>\n",
       "      <td>1998</td>\n",
       "      <td>\\N</td>\n",
       "      <td>\\N</td>\n",
       "      <td>Animation,Comedy,Sci-Fi</td>\n",
       "    </tr>\n",
       "    <tr>\n",
       "      <th>1</th>\n",
       "      <td>7917645</td>\n",
       "      <td>!! THIS VIDEO IS NOTHING BUT PAIN !! | Getting...</td>\n",
       "      <td>NaN</td>\n",
       "      <td>2018</td>\n",
       "      <td>tt32790928</td>\n",
       "      <td>tvEpisode</td>\n",
       "      <td>!! THIS VIDEO IS NOTHING BUT PAIN !! | Getting...</td>\n",
       "      <td>!! THIS VIDEO IS NOTHING BUT PAIN !! | Getting...</td>\n",
       "      <td>0</td>\n",
       "      <td>2018</td>\n",
       "      <td>\\N</td>\n",
       "      <td>13</td>\n",
       "      <td>Comedy</td>\n",
       "    </tr>\n",
       "    <tr>\n",
       "      <th>2</th>\n",
       "      <td>7917452</td>\n",
       "      <td>!!POKING MY EYE OUT!! | Emily Wants to Play #2</td>\n",
       "      <td>NaN</td>\n",
       "      <td>2016</td>\n",
       "      <td>tt32788356</td>\n",
       "      <td>tvEpisode</td>\n",
       "      <td>!!POKING MY EYE OUT!! | Emily Wants to Play #2</td>\n",
       "      <td>!!POKING MY EYE OUT!! | Emily Wants to Play #2</td>\n",
       "      <td>0</td>\n",
       "      <td>2016</td>\n",
       "      <td>\\N</td>\n",
       "      <td>9</td>\n",
       "      <td>Comedy</td>\n",
       "    </tr>\n",
       "    <tr>\n",
       "      <th>3</th>\n",
       "      <td>7532436</td>\n",
       "      <td>!How to be a King, Princess or Superhero... in...</td>\n",
       "      <td>NaN</td>\n",
       "      <td>2020</td>\n",
       "      <td>tt31434107</td>\n",
       "      <td>tvEpisode</td>\n",
       "      <td>!How to be a King, Princess or Superhero... in...</td>\n",
       "      <td>!How to be a King, Princess or Superhero... in...</td>\n",
       "      <td>0</td>\n",
       "      <td>2020</td>\n",
       "      <td>\\N</td>\n",
       "      <td>\\N</td>\n",
       "      <td>\\N</td>\n",
       "    </tr>\n",
       "    <tr>\n",
       "      <th>4</th>\n",
       "      <td>6018412</td>\n",
       "      <td>!Next?</td>\n",
       "      <td>NaN</td>\n",
       "      <td>1994</td>\n",
       "      <td>tt2386381</td>\n",
       "      <td>tvSeries</td>\n",
       "      <td>!Next?</td>\n",
       "      <td>!Next?</td>\n",
       "      <td>0</td>\n",
       "      <td>1994</td>\n",
       "      <td>1995</td>\n",
       "      <td>\\N</td>\n",
       "      <td>Documentary</td>\n",
       "    </tr>\n",
       "    <tr>\n",
       "      <th>...</th>\n",
       "      <td>...</td>\n",
       "      <td>...</td>\n",
       "      <td>...</td>\n",
       "      <td>...</td>\n",
       "      <td>...</td>\n",
       "      <td>...</td>\n",
       "      <td>...</td>\n",
       "      <td>...</td>\n",
       "      <td>...</td>\n",
       "      <td>...</td>\n",
       "      <td>...</td>\n",
       "      <td>...</td>\n",
       "      <td>...</td>\n",
       "    </tr>\n",
       "    <tr>\n",
       "      <th>10907645</th>\n",
       "      <td>7884235</td>\n",
       "      <td>Кулон - The Pendant</td>\n",
       "      <td>NaN</td>\n",
       "      <td>2024</td>\n",
       "      <td>tt32654579</td>\n",
       "      <td>short</td>\n",
       "      <td>Кулон - The Pendant</td>\n",
       "      <td>Il ciondolo</td>\n",
       "      <td>0</td>\n",
       "      <td>2024</td>\n",
       "      <td>\\N</td>\n",
       "      <td>\\N</td>\n",
       "      <td>Short,War</td>\n",
       "    </tr>\n",
       "    <tr>\n",
       "      <th>10907646</th>\n",
       "      <td>6982888</td>\n",
       "      <td>Сall Me When You Get Home</td>\n",
       "      <td>NaN</td>\n",
       "      <td>2023</td>\n",
       "      <td>tt28970415</td>\n",
       "      <td>short</td>\n",
       "      <td>Сall Me When You Get Home</td>\n",
       "      <td>Steile otan ftaseis</td>\n",
       "      <td>0</td>\n",
       "      <td>2023</td>\n",
       "      <td>\\N</td>\n",
       "      <td>6</td>\n",
       "      <td>Drama,Short</td>\n",
       "    </tr>\n",
       "    <tr>\n",
       "      <th>10907647</th>\n",
       "      <td>2234359</td>\n",
       "      <td>Самая любимая</td>\n",
       "      <td>NaN</td>\n",
       "      <td>2020</td>\n",
       "      <td>tt12283154</td>\n",
       "      <td>tvMovie</td>\n",
       "      <td>Самая любимая</td>\n",
       "      <td>Samaya luybimaya</td>\n",
       "      <td>0</td>\n",
       "      <td>2020</td>\n",
       "      <td>\\N</td>\n",
       "      <td>102</td>\n",
       "      <td>Drama</td>\n",
       "    </tr>\n",
       "    <tr>\n",
       "      <th>10907648</th>\n",
       "      <td>5333613</td>\n",
       "      <td>【Oshi No Ko】</td>\n",
       "      <td>NaN</td>\n",
       "      <td>2023</td>\n",
       "      <td>tt21030032</td>\n",
       "      <td>tvSeries</td>\n",
       "      <td>【Oshi No Ko】</td>\n",
       "      <td>Oshi no Ko</td>\n",
       "      <td>0</td>\n",
       "      <td>2023</td>\n",
       "      <td>\\N</td>\n",
       "      <td>24</td>\n",
       "      <td>Animation,Drama,Fantasy</td>\n",
       "    </tr>\n",
       "    <tr>\n",
       "      <th>10907649</th>\n",
       "      <td>7277709</td>\n",
       "      <td>起来! ARISE! - (Whispers on paper)</td>\n",
       "      <td>NaN</td>\n",
       "      <td>2024</td>\n",
       "      <td>tt30271780</td>\n",
       "      <td>short</td>\n",
       "      <td>起来! ARISE! - (Whispers on paper)</td>\n",
       "      <td>Qi lái! ARISE! (Whispers on paper)</td>\n",
       "      <td>0</td>\n",
       "      <td>2024</td>\n",
       "      <td>\\N</td>\n",
       "      <td>8</td>\n",
       "      <td>Short</td>\n",
       "    </tr>\n",
       "  </tbody>\n",
       "</table>\n",
       "<p>4907987 rows × 13 columns</p>\n",
       "</div>"
      ],
      "text/plain": [
       "          MovieID                                              Title Genres  \\\n",
       "0         7548454                                                  !    NaN   \n",
       "1         7917645  !! THIS VIDEO IS NOTHING BUT PAIN !! | Getting...    NaN   \n",
       "2         7917452     !!POKING MY EYE OUT!! | Emily Wants to Play #2    NaN   \n",
       "3         7532436  !How to be a King, Princess or Superhero... in...    NaN   \n",
       "4         6018412                                             !Next?    NaN   \n",
       "...           ...                                                ...    ...   \n",
       "10907645  7884235                                Кулон - The Pendant    NaN   \n",
       "10907646  6982888                          Сall Me When You Get Home    NaN   \n",
       "10907647  2234359                                      Самая любимая    NaN   \n",
       "10907648  5333613                                       【Oshi No Ko】    NaN   \n",
       "10907649  7277709                   起来! ARISE! - (Whispers on paper)    NaN   \n",
       "\n",
       "          Year      tconst  titleType  \\\n",
       "0         1998  tt31497793  tvEpisode   \n",
       "1         2018  tt32790928  tvEpisode   \n",
       "2         2016  tt32788356  tvEpisode   \n",
       "3         2020  tt31434107  tvEpisode   \n",
       "4         1994   tt2386381   tvSeries   \n",
       "...        ...         ...        ...   \n",
       "10907645  2024  tt32654579      short   \n",
       "10907646  2023  tt28970415      short   \n",
       "10907647  2020  tt12283154    tvMovie   \n",
       "10907648  2023  tt21030032   tvSeries   \n",
       "10907649  2024  tt30271780      short   \n",
       "\n",
       "                                               primaryTitle  \\\n",
       "0                                                         !   \n",
       "1         !! THIS VIDEO IS NOTHING BUT PAIN !! | Getting...   \n",
       "2            !!POKING MY EYE OUT!! | Emily Wants to Play #2   \n",
       "3         !How to be a King, Princess or Superhero... in...   \n",
       "4                                                    !Next?   \n",
       "...                                                     ...   \n",
       "10907645                                Кулон - The Pendant   \n",
       "10907646                          Сall Me When You Get Home   \n",
       "10907647                                      Самая любимая   \n",
       "10907648                                       【Oshi No Ko】   \n",
       "10907649                   起来! ARISE! - (Whispers on paper)   \n",
       "\n",
       "                                              originalTitle isAdult startYear  \\\n",
       "0                                                         !       0      1998   \n",
       "1         !! THIS VIDEO IS NOTHING BUT PAIN !! | Getting...       0      2018   \n",
       "2            !!POKING MY EYE OUT!! | Emily Wants to Play #2       0      2016   \n",
       "3         !How to be a King, Princess or Superhero... in...       0      2020   \n",
       "4                                                    !Next?       0      1994   \n",
       "...                                                     ...     ...       ...   \n",
       "10907645                                        Il ciondolo       0      2024   \n",
       "10907646                                Steile otan ftaseis       0      2023   \n",
       "10907647                                   Samaya luybimaya       0      2020   \n",
       "10907648                                         Oshi no Ko       0      2023   \n",
       "10907649                 Qi lái! ARISE! (Whispers on paper)       0      2024   \n",
       "\n",
       "         endYear runtimeMinutes                   genres  \n",
       "0             \\N             \\N  Animation,Comedy,Sci-Fi  \n",
       "1             \\N             13                   Comedy  \n",
       "2             \\N              9                   Comedy  \n",
       "3             \\N             \\N                       \\N  \n",
       "4           1995             \\N              Documentary  \n",
       "...          ...            ...                      ...  \n",
       "10907645      \\N             \\N                Short,War  \n",
       "10907646      \\N              6              Drama,Short  \n",
       "10907647      \\N            102                    Drama  \n",
       "10907648      \\N             24  Animation,Drama,Fantasy  \n",
       "10907649      \\N              8                    Short  \n",
       "\n",
       "[4907987 rows x 13 columns]"
      ]
     },
     "execution_count": 61,
     "metadata": {},
     "output_type": "execute_result"
    }
   ],
   "source": [
    "merged_movies"
   ]
  }
 ],
 "metadata": {
  "kernelspec": {
   "display_name": "Python 3",
   "language": "python",
   "name": "python3"
  },
  "language_info": {
   "codemirror_mode": {
    "name": "ipython",
    "version": 3
   },
   "file_extension": ".py",
   "mimetype": "text/x-python",
   "name": "python",
   "nbconvert_exporter": "python",
   "pygments_lexer": "ipython3",
   "version": "3.12.4"
  }
 },
 "nbformat": 4,
 "nbformat_minor": 2
}

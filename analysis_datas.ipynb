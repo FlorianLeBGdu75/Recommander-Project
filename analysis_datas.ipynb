{
 "cells": [
  {
   "cell_type": "code",
   "execution_count": 2,
   "metadata": {},
   "outputs": [],
   "source": [
    "import pandas as pd"
   ]
  },
  {
   "cell_type": "code",
   "execution_count": 3,
   "metadata": {},
   "outputs": [],
   "source": [
    "# Load title.basics.tsv\n",
    "title_basics = pd.read_csv('datas\\\\title.basics.tsv', sep='\\t', low_memory=False)"
   ]
  },
  {
   "cell_type": "code",
   "execution_count": 4,
   "metadata": {},
   "outputs": [],
   "source": [
    "# Load movies.dat\n",
    "movies = pd.read_csv('datas\\\\ml-1m\\\\movies.dat', sep='::', engine='python', encoding=\"latin-1\", header=None, names=['MovieID', 'Title', 'Genres'])\n",
    "\n",
    "# Load ratings.dat\n",
    "ratings = pd.read_csv('datas\\\\ml-1m\\\\ratings.dat', sep='::', engine='python', header=None, names=['UserID', 'MovieID', 'Rating', 'Timestamp'])\n",
    "\n",
    "# Load users.dat\n",
    "users = pd.read_csv('datas\\\\ml-1m\\\\users.dat', sep='::', engine='python', header=None, names=['UserID', 'Gender', 'Age', 'Occupation', 'Zip-code'])"
   ]
  },
  {
   "cell_type": "code",
   "execution_count": 5,
   "metadata": {},
   "outputs": [
    {
     "name": "stdout",
     "output_type": "stream",
     "text": [
      "tconst              0\n",
      "titleType           0\n",
      "primaryTitle       18\n",
      "originalTitle      18\n",
      "isAdult             0\n",
      "startYear           0\n",
      "endYear             0\n",
      "runtimeMinutes      0\n",
      "genres            561\n",
      "dtype: int64\n"
     ]
    }
   ],
   "source": [
    "print(title_basics.isnull().sum())"
   ]
  },
  {
   "cell_type": "code",
   "execution_count": 6,
   "metadata": {},
   "outputs": [
    {
     "name": "stdout",
     "output_type": "stream",
     "text": [
      "MovieID    0\n",
      "Title      0\n",
      "Genres     0\n",
      "dtype: int64\n"
     ]
    }
   ],
   "source": [
    "print(movies.isnull().sum())"
   ]
  },
  {
   "cell_type": "code",
   "execution_count": 7,
   "metadata": {},
   "outputs": [
    {
     "name": "stdout",
     "output_type": "stream",
     "text": [
      "UserID       0\n",
      "MovieID      0\n",
      "Rating       0\n",
      "Timestamp    0\n",
      "dtype: int64\n"
     ]
    }
   ],
   "source": [
    "print(ratings.isnull().sum())"
   ]
  },
  {
   "cell_type": "code",
   "execution_count": 8,
   "metadata": {},
   "outputs": [
    {
     "name": "stdout",
     "output_type": "stream",
     "text": [
      "UserID        0\n",
      "Gender        0\n",
      "Age           0\n",
      "Occupation    0\n",
      "Zip-code      0\n",
      "dtype: int64\n"
     ]
    }
   ],
   "source": [
    "print(users.isnull().sum())"
   ]
  },
  {
   "cell_type": "code",
   "execution_count": 9,
   "metadata": {},
   "outputs": [],
   "source": [
    "movies = movies.dropna()\n",
    "\n",
    "# For ratings.dat - removing rows with any null values\n",
    "ratings = ratings.dropna()\n",
    "\n",
    "# For users.dat - removing rows with any null values\n",
    "users = users.dropna()\n",
    "\n",
    "# For title.basics.tsv from IMDb - removing rows with any null values\n",
    "title_basics = title_basics.dropna()"
   ]
  },
  {
   "cell_type": "code",
   "execution_count": 10,
   "metadata": {},
   "outputs": [
    {
     "name": "stdout",
     "output_type": "stream",
     "text": [
      "Index(['MovieID', 'Title', 'Genres'], dtype='object')\n",
      "Index(['UserID', 'MovieID', 'Rating', 'Timestamp'], dtype='object')\n",
      "Index(['UserID', 'Gender', 'Age', 'Occupation', 'Zip-code'], dtype='object')\n",
      "Index(['tconst', 'titleType', 'primaryTitle', 'originalTitle', 'isAdult',\n",
      "       'startYear', 'endYear', 'runtimeMinutes', 'genres'],\n",
      "      dtype='object')\n"
     ]
    }
   ],
   "source": [
    "print(movies.columns)\n",
    "print(ratings.columns)\n",
    "print(users.columns)\n",
    "print(title_basics.columns)"
   ]
  },
  {
   "cell_type": "code",
   "execution_count": 11,
   "metadata": {},
   "outputs": [
    {
     "name": "stdout",
     "output_type": "stream",
     "text": [
      "      tconst titleType            primaryTitle           originalTitle  \\\n",
      "0  tt0000001     short              Carmencita              Carmencita   \n",
      "1  tt0000002     short  Le clown et ses chiens  Le clown et ses chiens   \n",
      "2  tt0000003     short          Pauvre Pierrot          Pauvre Pierrot   \n",
      "3  tt0000004     short             Un bon bock             Un bon bock   \n",
      "4  tt0000005     short        Blacksmith Scene        Blacksmith Scene   \n",
      "\n",
      "  isAdult startYear endYear runtimeMinutes                    genres  \n",
      "0       0      1894      \\N              1         Documentary,Short  \n",
      "1       0      1892      \\N              5           Animation,Short  \n",
      "2       0      1892      \\N              5  Animation,Comedy,Romance  \n",
      "3       0      1892      \\N             12           Animation,Short  \n",
      "4       0      1893      \\N              1              Comedy,Short  \n"
     ]
    }
   ],
   "source": [
    "print(title_basics.head())"
   ]
  },
  {
   "cell_type": "code",
   "execution_count": 12,
   "metadata": {},
   "outputs": [
    {
     "name": "stdout",
     "output_type": "stream",
     "text": [
      "   UserID Gender  Age  Occupation Zip-code\n",
      "0       1      F    1          10    48067\n",
      "1       2      M   56          16    70072\n",
      "2       3      M   25          15    55117\n",
      "3       4      M   45           7    02460\n",
      "4       5      M   25          20    55455\n"
     ]
    }
   ],
   "source": [
    "print(users.head())"
   ]
  },
  {
   "cell_type": "code",
   "execution_count": 13,
   "metadata": {},
   "outputs": [
    {
     "name": "stdout",
     "output_type": "stream",
     "text": [
      "   MovieID                               Title                        Genres\n",
      "0        1                    Toy Story (1995)   Animation|Children's|Comedy\n",
      "1        2                      Jumanji (1995)  Adventure|Children's|Fantasy\n",
      "2        3             Grumpier Old Men (1995)                Comedy|Romance\n",
      "3        4            Waiting to Exhale (1995)                  Comedy|Drama\n",
      "4        5  Father of the Bride Part II (1995)                        Comedy\n"
     ]
    }
   ],
   "source": [
    "print(movies.head())"
   ]
  },
  {
   "cell_type": "code",
   "execution_count": 14,
   "metadata": {},
   "outputs": [
    {
     "name": "stdout",
     "output_type": "stream",
     "text": [
      "   UserID  MovieID  Rating  Timestamp\n",
      "0       1     1193       5  978300760\n",
      "1       1      661       3  978302109\n",
      "2       1      914       3  978301968\n",
      "3       1     3408       4  978300275\n",
      "4       1     2355       5  978824291\n"
     ]
    }
   ],
   "source": [
    "print(ratings.head())"
   ]
  },
  {
   "cell_type": "code",
   "execution_count": 15,
   "metadata": {},
   "outputs": [],
   "source": [
    "movies['Year'] = movies['Title'].str.extract(r'\\((\\d{4})\\)')\n",
    "movies['Title'] = movies['Title'].str.replace(r'\\s*\\(\\d{4}\\)\\s*', '', regex=True).str.strip()"
   ]
  },
  {
   "cell_type": "code",
   "execution_count": 16,
   "metadata": {},
   "outputs": [],
   "source": [
    "max_movie_id = movies['MovieID'].max()\n",
    "\n",
    "title_basics['MovieID'] = range(max_movie_id + 1, max_movie_id + 1 + len(title_basics))\n",
    "\n",
    "title_basics['startYear'] = title_basics['startYear'].astype(str)\n",
    "\n",
    "title_basics['Year'] = title_basics['startYear'].str.extract(r'^(\\d{4})$')\n",
    "title_basics['Title'] = title_basics['primaryTitle'].str.strip()\n",
    "title_basics['Genres'] = title_basics['genres'].str.split(',').str.join('|')"
   ]
  },
  {
   "cell_type": "code",
   "execution_count": 17,
   "metadata": {},
   "outputs": [],
   "source": [
    "merged_movies = pd.merge(movies, title_basics, on=['Title', 'Year', 'MovieID', 'Genres'], how='outer')\n",
    "merged_movies = merged_movies.drop_duplicates(subset=['Title'])"
   ]
  },
  {
   "cell_type": "code",
   "execution_count": 21,
   "metadata": {},
   "outputs": [
    {
     "data": {
      "text/html": [
       "<div>\n",
       "<style scoped>\n",
       "    .dataframe tbody tr th:only-of-type {\n",
       "        vertical-align: middle;\n",
       "    }\n",
       "\n",
       "    .dataframe tbody tr th {\n",
       "        vertical-align: top;\n",
       "    }\n",
       "\n",
       "    .dataframe thead th {\n",
       "        text-align: right;\n",
       "    }\n",
       "</style>\n",
       "<table border=\"1\" class=\"dataframe\">\n",
       "  <thead>\n",
       "    <tr style=\"text-align: right;\">\n",
       "      <th></th>\n",
       "      <th>MovieID</th>\n",
       "      <th>Title</th>\n",
       "      <th>Genres</th>\n",
       "      <th>Year</th>\n",
       "      <th>titleType</th>\n",
       "    </tr>\n",
       "  </thead>\n",
       "  <tbody>\n",
       "    <tr>\n",
       "      <th>0</th>\n",
       "      <td>7548454</td>\n",
       "      <td>!</td>\n",
       "      <td>Animation|Comedy|Sci-Fi</td>\n",
       "      <td>1998</td>\n",
       "      <td>tvEpisode</td>\n",
       "    </tr>\n",
       "    <tr>\n",
       "      <th>1</th>\n",
       "      <td>7917645</td>\n",
       "      <td>!! THIS VIDEO IS NOTHING BUT PAIN !! | Getting...</td>\n",
       "      <td>Comedy</td>\n",
       "      <td>2018</td>\n",
       "      <td>tvEpisode</td>\n",
       "    </tr>\n",
       "    <tr>\n",
       "      <th>2</th>\n",
       "      <td>7917452</td>\n",
       "      <td>!!POKING MY EYE OUT!! | Emily Wants to Play #2</td>\n",
       "      <td>Comedy</td>\n",
       "      <td>2016</td>\n",
       "      <td>tvEpisode</td>\n",
       "    </tr>\n",
       "    <tr>\n",
       "      <th>3</th>\n",
       "      <td>7532436</td>\n",
       "      <td>!How to be a King, Princess or Superhero... in...</td>\n",
       "      <td>\\N</td>\n",
       "      <td>2020</td>\n",
       "      <td>tvEpisode</td>\n",
       "    </tr>\n",
       "    <tr>\n",
       "      <th>4</th>\n",
       "      <td>6018412</td>\n",
       "      <td>!Next?</td>\n",
       "      <td>Documentary</td>\n",
       "      <td>1994</td>\n",
       "      <td>tvSeries</td>\n",
       "    </tr>\n",
       "    <tr>\n",
       "      <th>...</th>\n",
       "      <td>...</td>\n",
       "      <td>...</td>\n",
       "      <td>...</td>\n",
       "      <td>...</td>\n",
       "      <td>...</td>\n",
       "    </tr>\n",
       "    <tr>\n",
       "      <th>10907645</th>\n",
       "      <td>7884235</td>\n",
       "      <td>Кулон - The Pendant</td>\n",
       "      <td>Short|War</td>\n",
       "      <td>2024</td>\n",
       "      <td>short</td>\n",
       "    </tr>\n",
       "    <tr>\n",
       "      <th>10907646</th>\n",
       "      <td>6982888</td>\n",
       "      <td>Сall Me When You Get Home</td>\n",
       "      <td>Drama|Short</td>\n",
       "      <td>2023</td>\n",
       "      <td>short</td>\n",
       "    </tr>\n",
       "    <tr>\n",
       "      <th>10907647</th>\n",
       "      <td>2234359</td>\n",
       "      <td>Самая любимая</td>\n",
       "      <td>Drama</td>\n",
       "      <td>2020</td>\n",
       "      <td>tvMovie</td>\n",
       "    </tr>\n",
       "    <tr>\n",
       "      <th>10907648</th>\n",
       "      <td>5333613</td>\n",
       "      <td>【Oshi No Ko】</td>\n",
       "      <td>Animation|Drama|Fantasy</td>\n",
       "      <td>2023</td>\n",
       "      <td>tvSeries</td>\n",
       "    </tr>\n",
       "    <tr>\n",
       "      <th>10907649</th>\n",
       "      <td>7277709</td>\n",
       "      <td>起来! ARISE! - (Whispers on paper)</td>\n",
       "      <td>Short</td>\n",
       "      <td>2024</td>\n",
       "      <td>short</td>\n",
       "    </tr>\n",
       "  </tbody>\n",
       "</table>\n",
       "<p>4907987 rows × 5 columns</p>\n",
       "</div>"
      ],
      "text/plain": [
       "          MovieID                                              Title  \\\n",
       "0         7548454                                                  !   \n",
       "1         7917645  !! THIS VIDEO IS NOTHING BUT PAIN !! | Getting...   \n",
       "2         7917452     !!POKING MY EYE OUT!! | Emily Wants to Play #2   \n",
       "3         7532436  !How to be a King, Princess or Superhero... in...   \n",
       "4         6018412                                             !Next?   \n",
       "...           ...                                                ...   \n",
       "10907645  7884235                                Кулон - The Pendant   \n",
       "10907646  6982888                          Сall Me When You Get Home   \n",
       "10907647  2234359                                      Самая любимая   \n",
       "10907648  5333613                                       【Oshi No Ko】   \n",
       "10907649  7277709                   起来! ARISE! - (Whispers on paper)   \n",
       "\n",
       "                           Genres  Year  titleType  \n",
       "0         Animation|Comedy|Sci-Fi  1998  tvEpisode  \n",
       "1                          Comedy  2018  tvEpisode  \n",
       "2                          Comedy  2016  tvEpisode  \n",
       "3                              \\N  2020  tvEpisode  \n",
       "4                     Documentary  1994   tvSeries  \n",
       "...                           ...   ...        ...  \n",
       "10907645                Short|War  2024      short  \n",
       "10907646              Drama|Short  2023      short  \n",
       "10907647                    Drama  2020    tvMovie  \n",
       "10907648  Animation|Drama|Fantasy  2023   tvSeries  \n",
       "10907649                    Short  2024      short  \n",
       "\n",
       "[4907987 rows x 5 columns]"
      ]
     },
     "execution_count": 21,
     "metadata": {},
     "output_type": "execute_result"
    }
   ],
   "source": [
    "merged_movies[['MovieID', 'Title', 'Genres', 'Year', 'titleType']]"
   ]
  },
  {
   "cell_type": "markdown",
   "metadata": {},
   "source": [
    "**NOTE**\n",
    "\n",
    "Dans l'exemple ci-dessus, nous illustrons comment fusionner les données. Bien que cette méthode ne soit pas parfaite (il serait judicieux, par exemple, de gérer les \\N), elle donne une idée générale de la manière d'ajouter des informations supplémentaires à notre catalogue. Il serait également envisageable de traiter les titres différemment."
   ]
  }
 ],
 "metadata": {
  "kernelspec": {
   "display_name": "Python 3",
   "language": "python",
   "name": "python3"
  },
  "language_info": {
   "codemirror_mode": {
    "name": "ipython",
    "version": 3
   },
   "file_extension": ".py",
   "mimetype": "text/x-python",
   "name": "python",
   "nbconvert_exporter": "python",
   "pygments_lexer": "ipython3",
   "version": "3.12.4"
  }
 },
 "nbformat": 4,
 "nbformat_minor": 2
}
